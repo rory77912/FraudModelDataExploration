{
 "cells": [
  {
   "cell_type": "markdown",
   "metadata": {},
   "source": [
    "## AutoEncoder Model - Fraud"
   ]
  },
  {
   "cell_type": "code",
   "execution_count": 1,
   "metadata": {},
   "outputs": [],
   "source": [
    "%config IPCompleter.greedy=True\n",
    "#%install_ext https://raw.github.com/cpcloud/ipython-autotime/master/autotime.py\n",
    "#%load_ext autotime"
   ]
  },
  {
   "cell_type": "code",
   "execution_count": 2,
   "metadata": {},
   "outputs": [
    {
     "name": "stderr",
     "output_type": "stream",
     "text": [
      "Using TensorFlow backend.\n"
     ]
    }
   ],
   "source": [
    "import pandas as pd\n",
    "import numpy as np\n",
    "\n",
    "from keras.models import Model\n",
    "from keras.layers import Input,Dense"
   ]
  },
  {
   "cell_type": "code",
   "execution_count": 3,
   "metadata": {},
   "outputs": [],
   "source": [
    "df = pd.read_csv('PCA_standardized.csv')"
   ]
  },
  {
   "cell_type": "code",
   "execution_count": 4,
   "metadata": {},
   "outputs": [
    {
     "data": {
      "text/html": [
       "<div>\n",
       "<style scoped>\n",
       "    .dataframe tbody tr th:only-of-type {\n",
       "        vertical-align: middle;\n",
       "    }\n",
       "\n",
       "    .dataframe tbody tr th {\n",
       "        vertical-align: top;\n",
       "    }\n",
       "\n",
       "    .dataframe thead th {\n",
       "        text-align: right;\n",
       "    }\n",
       "</style>\n",
       "<table border=\"1\" class=\"dataframe\">\n",
       "  <thead>\n",
       "    <tr style=\"text-align: right;\">\n",
       "      <th></th>\n",
       "      <th>Unnamed: 0</th>\n",
       "      <th>PC1</th>\n",
       "      <th>PC2</th>\n",
       "      <th>PC3</th>\n",
       "      <th>PC4</th>\n",
       "      <th>PC5</th>\n",
       "      <th>PC6</th>\n",
       "      <th>PC7</th>\n",
       "      <th>PC8</th>\n",
       "    </tr>\n",
       "  </thead>\n",
       "  <tbody>\n",
       "    <tr>\n",
       "      <td>0</td>\n",
       "      <td>0</td>\n",
       "      <td>-0.001597</td>\n",
       "      <td>-0.099493</td>\n",
       "      <td>-0.062586</td>\n",
       "      <td>0.055364</td>\n",
       "      <td>0.063748</td>\n",
       "      <td>-0.078686</td>\n",
       "      <td>-0.074330</td>\n",
       "      <td>-0.001329</td>\n",
       "    </tr>\n",
       "    <tr>\n",
       "      <td>1</td>\n",
       "      <td>1</td>\n",
       "      <td>3.334907</td>\n",
       "      <td>17.051728</td>\n",
       "      <td>7.791509</td>\n",
       "      <td>1.202956</td>\n",
       "      <td>-5.870208</td>\n",
       "      <td>7.478103</td>\n",
       "      <td>9.150227</td>\n",
       "      <td>-0.355868</td>\n",
       "    </tr>\n",
       "    <tr>\n",
       "      <td>2</td>\n",
       "      <td>2</td>\n",
       "      <td>0.008796</td>\n",
       "      <td>0.098246</td>\n",
       "      <td>-0.045428</td>\n",
       "      <td>-0.088565</td>\n",
       "      <td>0.014162</td>\n",
       "      <td>-0.077065</td>\n",
       "      <td>-0.093301</td>\n",
       "      <td>-0.003220</td>\n",
       "    </tr>\n",
       "    <tr>\n",
       "      <td>3</td>\n",
       "      <td>3</td>\n",
       "      <td>0.063701</td>\n",
       "      <td>-0.074574</td>\n",
       "      <td>-0.082023</td>\n",
       "      <td>0.040459</td>\n",
       "      <td>0.121016</td>\n",
       "      <td>0.037284</td>\n",
       "      <td>-0.107443</td>\n",
       "      <td>0.016966</td>\n",
       "    </tr>\n",
       "    <tr>\n",
       "      <td>4</td>\n",
       "      <td>4</td>\n",
       "      <td>11.512157</td>\n",
       "      <td>-4.585651</td>\n",
       "      <td>-2.718350</td>\n",
       "      <td>5.188391</td>\n",
       "      <td>12.505159</td>\n",
       "      <td>24.322964</td>\n",
       "      <td>-6.417228</td>\n",
       "      <td>5.572582</td>\n",
       "    </tr>\n",
       "  </tbody>\n",
       "</table>\n",
       "</div>"
      ],
      "text/plain": [
       "   Unnamed: 0        PC1        PC2       PC3       PC4        PC5        PC6  \\\n",
       "0           0  -0.001597  -0.099493 -0.062586  0.055364   0.063748  -0.078686   \n",
       "1           1   3.334907  17.051728  7.791509  1.202956  -5.870208   7.478103   \n",
       "2           2   0.008796   0.098246 -0.045428 -0.088565   0.014162  -0.077065   \n",
       "3           3   0.063701  -0.074574 -0.082023  0.040459   0.121016   0.037284   \n",
       "4           4  11.512157  -4.585651 -2.718350  5.188391  12.505159  24.322964   \n",
       "\n",
       "        PC7       PC8  \n",
       "0 -0.074330 -0.001329  \n",
       "1  9.150227 -0.355868  \n",
       "2 -0.093301 -0.003220  \n",
       "3 -0.107443  0.016966  \n",
       "4 -6.417228  5.572582  "
      ]
     },
     "execution_count": 4,
     "metadata": {},
     "output_type": "execute_result"
    }
   ],
   "source": [
    "df.head()"
   ]
  },
  {
   "cell_type": "code",
   "execution_count": 5,
   "metadata": {},
   "outputs": [],
   "source": [
    "df = df.iloc[:,1:]"
   ]
  },
  {
   "cell_type": "code",
   "execution_count": 6,
   "metadata": {},
   "outputs": [
    {
     "data": {
      "text/html": [
       "<div>\n",
       "<style scoped>\n",
       "    .dataframe tbody tr th:only-of-type {\n",
       "        vertical-align: middle;\n",
       "    }\n",
       "\n",
       "    .dataframe tbody tr th {\n",
       "        vertical-align: top;\n",
       "    }\n",
       "\n",
       "    .dataframe thead th {\n",
       "        text-align: right;\n",
       "    }\n",
       "</style>\n",
       "<table border=\"1\" class=\"dataframe\">\n",
       "  <thead>\n",
       "    <tr style=\"text-align: right;\">\n",
       "      <th></th>\n",
       "      <th>PC1</th>\n",
       "      <th>PC2</th>\n",
       "      <th>PC3</th>\n",
       "      <th>PC4</th>\n",
       "      <th>PC5</th>\n",
       "      <th>PC6</th>\n",
       "      <th>PC7</th>\n",
       "      <th>PC8</th>\n",
       "    </tr>\n",
       "  </thead>\n",
       "  <tbody>\n",
       "    <tr>\n",
       "      <td>0</td>\n",
       "      <td>-0.001597</td>\n",
       "      <td>-0.099493</td>\n",
       "      <td>-0.062586</td>\n",
       "      <td>0.055364</td>\n",
       "      <td>0.063748</td>\n",
       "      <td>-0.078686</td>\n",
       "      <td>-0.074330</td>\n",
       "      <td>-0.001329</td>\n",
       "    </tr>\n",
       "    <tr>\n",
       "      <td>1</td>\n",
       "      <td>3.334907</td>\n",
       "      <td>17.051728</td>\n",
       "      <td>7.791509</td>\n",
       "      <td>1.202956</td>\n",
       "      <td>-5.870208</td>\n",
       "      <td>7.478103</td>\n",
       "      <td>9.150227</td>\n",
       "      <td>-0.355868</td>\n",
       "    </tr>\n",
       "    <tr>\n",
       "      <td>2</td>\n",
       "      <td>0.008796</td>\n",
       "      <td>0.098246</td>\n",
       "      <td>-0.045428</td>\n",
       "      <td>-0.088565</td>\n",
       "      <td>0.014162</td>\n",
       "      <td>-0.077065</td>\n",
       "      <td>-0.093301</td>\n",
       "      <td>-0.003220</td>\n",
       "    </tr>\n",
       "    <tr>\n",
       "      <td>3</td>\n",
       "      <td>0.063701</td>\n",
       "      <td>-0.074574</td>\n",
       "      <td>-0.082023</td>\n",
       "      <td>0.040459</td>\n",
       "      <td>0.121016</td>\n",
       "      <td>0.037284</td>\n",
       "      <td>-0.107443</td>\n",
       "      <td>0.016966</td>\n",
       "    </tr>\n",
       "    <tr>\n",
       "      <td>4</td>\n",
       "      <td>11.512157</td>\n",
       "      <td>-4.585651</td>\n",
       "      <td>-2.718350</td>\n",
       "      <td>5.188391</td>\n",
       "      <td>12.505159</td>\n",
       "      <td>24.322964</td>\n",
       "      <td>-6.417228</td>\n",
       "      <td>5.572582</td>\n",
       "    </tr>\n",
       "  </tbody>\n",
       "</table>\n",
       "</div>"
      ],
      "text/plain": [
       "         PC1        PC2       PC3       PC4        PC5        PC6       PC7  \\\n",
       "0  -0.001597  -0.099493 -0.062586  0.055364   0.063748  -0.078686 -0.074330   \n",
       "1   3.334907  17.051728  7.791509  1.202956  -5.870208   7.478103  9.150227   \n",
       "2   0.008796   0.098246 -0.045428 -0.088565   0.014162  -0.077065 -0.093301   \n",
       "3   0.063701  -0.074574 -0.082023  0.040459   0.121016   0.037284 -0.107443   \n",
       "4  11.512157  -4.585651 -2.718350  5.188391  12.505159  24.322964 -6.417228   \n",
       "\n",
       "        PC8  \n",
       "0 -0.001329  \n",
       "1 -0.355868  \n",
       "2 -0.003220  \n",
       "3  0.016966  \n",
       "4  5.572582  "
      ]
     },
     "execution_count": 6,
     "metadata": {},
     "output_type": "execute_result"
    }
   ],
   "source": [
    "df.head()"
   ]
  },
  {
   "cell_type": "code",
   "execution_count": 7,
   "metadata": {},
   "outputs": [
    {
     "data": {
      "text/html": [
       "<div>\n",
       "<style scoped>\n",
       "    .dataframe tbody tr th:only-of-type {\n",
       "        vertical-align: middle;\n",
       "    }\n",
       "\n",
       "    .dataframe tbody tr th {\n",
       "        vertical-align: top;\n",
       "    }\n",
       "\n",
       "    .dataframe thead th {\n",
       "        text-align: right;\n",
       "    }\n",
       "</style>\n",
       "<table border=\"1\" class=\"dataframe\">\n",
       "  <thead>\n",
       "    <tr style=\"text-align: right;\">\n",
       "      <th></th>\n",
       "      <th>PC1</th>\n",
       "      <th>PC2</th>\n",
       "      <th>PC3</th>\n",
       "      <th>PC4</th>\n",
       "      <th>PC5</th>\n",
       "      <th>PC6</th>\n",
       "      <th>PC7</th>\n",
       "      <th>PC8</th>\n",
       "    </tr>\n",
       "  </thead>\n",
       "  <tbody>\n",
       "    <tr>\n",
       "      <td>count</td>\n",
       "      <td>1.070994e+06</td>\n",
       "      <td>1.070994e+06</td>\n",
       "      <td>1.070994e+06</td>\n",
       "      <td>1.070994e+06</td>\n",
       "      <td>1.070994e+06</td>\n",
       "      <td>1.070994e+06</td>\n",
       "      <td>1.070994e+06</td>\n",
       "      <td>1.070994e+06</td>\n",
       "    </tr>\n",
       "    <tr>\n",
       "      <td>mean</td>\n",
       "      <td>1.243260e-16</td>\n",
       "      <td>-8.877057e-17</td>\n",
       "      <td>-4.704204e-16</td>\n",
       "      <td>1.639360e-18</td>\n",
       "      <td>-4.139604e-16</td>\n",
       "      <td>7.154224e-17</td>\n",
       "      <td>4.375312e-16</td>\n",
       "      <td>-5.343976e-16</td>\n",
       "    </tr>\n",
       "    <tr>\n",
       "      <td>std</td>\n",
       "      <td>1.000000e+00</td>\n",
       "      <td>1.000000e+00</td>\n",
       "      <td>1.000000e+00</td>\n",
       "      <td>1.000000e+00</td>\n",
       "      <td>1.000000e+00</td>\n",
       "      <td>1.000000e+00</td>\n",
       "      <td>1.000000e+00</td>\n",
       "      <td>1.000000e+00</td>\n",
       "    </tr>\n",
       "    <tr>\n",
       "      <td>min</td>\n",
       "      <td>-6.252905e-02</td>\n",
       "      <td>-3.605525e+02</td>\n",
       "      <td>-3.938919e+02</td>\n",
       "      <td>-3.228306e+02</td>\n",
       "      <td>-2.834201e+02</td>\n",
       "      <td>-3.456608e+02</td>\n",
       "      <td>-3.079053e+02</td>\n",
       "      <td>-2.585727e+02</td>\n",
       "    </tr>\n",
       "    <tr>\n",
       "      <td>25%</td>\n",
       "      <td>-3.051779e-02</td>\n",
       "      <td>-6.500286e-02</td>\n",
       "      <td>-2.533584e-02</td>\n",
       "      <td>-3.466109e-02</td>\n",
       "      <td>-4.021377e-02</td>\n",
       "      <td>-9.504930e-02</td>\n",
       "      <td>-5.027190e-02</td>\n",
       "      <td>7.351731e-06</td>\n",
       "    </tr>\n",
       "    <tr>\n",
       "      <td>50%</td>\n",
       "      <td>-1.462546e-02</td>\n",
       "      <td>-3.161531e-02</td>\n",
       "      <td>-1.181097e-02</td>\n",
       "      <td>-1.827246e-02</td>\n",
       "      <td>-3.184441e-03</td>\n",
       "      <td>-1.062205e-02</td>\n",
       "      <td>-2.186707e-02</td>\n",
       "      <td>2.915357e-02</td>\n",
       "    </tr>\n",
       "    <tr>\n",
       "      <td>75%</td>\n",
       "      <td>-3.415713e-03</td>\n",
       "      <td>9.983987e-04</td>\n",
       "      <td>3.363344e-03</td>\n",
       "      <td>5.708233e-03</td>\n",
       "      <td>5.580199e-02</td>\n",
       "      <td>3.436552e-02</td>\n",
       "      <td>1.844435e-02</td>\n",
       "      <td>4.500783e-02</td>\n",
       "    </tr>\n",
       "    <tr>\n",
       "      <td>max</td>\n",
       "      <td>6.249536e+02</td>\n",
       "      <td>4.986715e+02</td>\n",
       "      <td>6.061432e+02</td>\n",
       "      <td>3.414084e+02</td>\n",
       "      <td>2.882781e+02</td>\n",
       "      <td>3.646161e+02</td>\n",
       "      <td>4.998757e+02</td>\n",
       "      <td>5.337854e+02</td>\n",
       "    </tr>\n",
       "  </tbody>\n",
       "</table>\n",
       "</div>"
      ],
      "text/plain": [
       "                PC1           PC2           PC3           PC4           PC5  \\\n",
       "count  1.070994e+06  1.070994e+06  1.070994e+06  1.070994e+06  1.070994e+06   \n",
       "mean   1.243260e-16 -8.877057e-17 -4.704204e-16  1.639360e-18 -4.139604e-16   \n",
       "std    1.000000e+00  1.000000e+00  1.000000e+00  1.000000e+00  1.000000e+00   \n",
       "min   -6.252905e-02 -3.605525e+02 -3.938919e+02 -3.228306e+02 -2.834201e+02   \n",
       "25%   -3.051779e-02 -6.500286e-02 -2.533584e-02 -3.466109e-02 -4.021377e-02   \n",
       "50%   -1.462546e-02 -3.161531e-02 -1.181097e-02 -1.827246e-02 -3.184441e-03   \n",
       "75%   -3.415713e-03  9.983987e-04  3.363344e-03  5.708233e-03  5.580199e-02   \n",
       "max    6.249536e+02  4.986715e+02  6.061432e+02  3.414084e+02  2.882781e+02   \n",
       "\n",
       "                PC6           PC7           PC8  \n",
       "count  1.070994e+06  1.070994e+06  1.070994e+06  \n",
       "mean   7.154224e-17  4.375312e-16 -5.343976e-16  \n",
       "std    1.000000e+00  1.000000e+00  1.000000e+00  \n",
       "min   -3.456608e+02 -3.079053e+02 -2.585727e+02  \n",
       "25%   -9.504930e-02 -5.027190e-02  7.351731e-06  \n",
       "50%   -1.062205e-02 -2.186707e-02  2.915357e-02  \n",
       "75%    3.436552e-02  1.844435e-02  4.500783e-02  \n",
       "max    3.646161e+02  4.998757e+02  5.337854e+02  "
      ]
     },
     "execution_count": 7,
     "metadata": {},
     "output_type": "execute_result"
    }
   ],
   "source": [
    "df.describe()"
   ]
  },
  {
   "cell_type": "code",
   "execution_count": 8,
   "metadata": {},
   "outputs": [],
   "source": [
    "train_df = df.values"
   ]
  },
  {
   "cell_type": "code",
   "execution_count": 9,
   "metadata": {},
   "outputs": [],
   "source": [
    "input_size = 8\n",
    "hidden_size = 4\n",
    "code_size = 2\n",
    "\n",
    "#autoencoder\n",
    "input_layer = Input(shape=(input_size,)) \n",
    "hidden_1 = Dense(hidden_size, activation='relu')(input_layer)\n",
    "code = Dense(code_size,activation='relu')(hidden_1)\n",
    "hidden_2 = Dense(hidden_size, activation='relu')(code)\n",
    "output_layer = Dense(input_size, activation='tanh')(hidden_2)\n",
    "\n",
    "autoencoder = Model(input_layer, output_layer)\n",
    "autoencoder.compile(optimizer='adam', loss='mean_squared_error', metrics=['accuracy'])"
   ]
  },
  {
   "cell_type": "code",
   "execution_count": 10,
   "metadata": {},
   "outputs": [
    {
     "name": "stdout",
     "output_type": "stream",
     "text": [
      "Epoch 1/10\n",
      "1070994/1070994 [==============================] - 30s 28us/step - loss: 1.0001 - accuracy: 0.1669\n",
      "Epoch 2/10\n",
      "1070994/1070994 [==============================] - 32s 30us/step - loss: 1.0001 - accuracy: 0.1563\n",
      "Epoch 3/10\n",
      "1070994/1070994 [==============================] - 33s 30us/step - loss: 1.0001 - accuracy: 0.1661\n",
      "Epoch 4/10\n",
      "1070994/1070994 [==============================] - 31s 29us/step - loss: 1.0001 - accuracy: 0.1588\n",
      "Epoch 5/10\n",
      "1070994/1070994 [==============================] - 32s 30us/step - loss: 1.0001 - accuracy: 0.1533\n",
      "Epoch 6/10\n",
      "1070994/1070994 [==============================] - 32s 30us/step - loss: 1.0001 - accuracy: 0.15170s -\n",
      "Epoch 7/10\n",
      "1070994/1070994 [==============================] - 28s 26us/step - loss: 1.0001 - accuracy: 0.15890s - loss: 1.0\n",
      "Epoch 8/10\n",
      "1070994/1070994 [==============================] - 28s 26us/step - loss: 1.0001 - accuracy: 0.1573\n",
      "Epoch 9/10\n",
      "1070994/1070994 [==============================] - 29s 27us/step - loss: 1.0001 - accuracy: 0.1646\n",
      "Epoch 10/10\n",
      "1070994/1070994 [==============================] - 28s 26us/step - loss: 1.0001 - accuracy: 0.1563\n"
     ]
    }
   ],
   "source": [
    "output=autoencoder.fit(train_df,train_df, epochs = 10)"
   ]
  },
  {
   "cell_type": "code",
   "execution_count": 11,
   "metadata": {},
   "outputs": [],
   "source": [
    "ans = autoencoder.predict(train_df)"
   ]
  },
  {
   "cell_type": "code",
   "execution_count": 12,
   "metadata": {},
   "outputs": [],
   "source": [
    "ans_df = pd.DataFrame(ans)"
   ]
  },
  {
   "cell_type": "code",
   "execution_count": 13,
   "metadata": {},
   "outputs": [
    {
     "data": {
      "text/html": [
       "<div>\n",
       "<style scoped>\n",
       "    .dataframe tbody tr th:only-of-type {\n",
       "        vertical-align: middle;\n",
       "    }\n",
       "\n",
       "    .dataframe tbody tr th {\n",
       "        vertical-align: top;\n",
       "    }\n",
       "\n",
       "    .dataframe thead th {\n",
       "        text-align: right;\n",
       "    }\n",
       "</style>\n",
       "<table border=\"1\" class=\"dataframe\">\n",
       "  <thead>\n",
       "    <tr style=\"text-align: right;\">\n",
       "      <th></th>\n",
       "      <th>0</th>\n",
       "      <th>1</th>\n",
       "      <th>2</th>\n",
       "      <th>3</th>\n",
       "      <th>4</th>\n",
       "      <th>5</th>\n",
       "      <th>6</th>\n",
       "      <th>7</th>\n",
       "    </tr>\n",
       "  </thead>\n",
       "  <tbody>\n",
       "    <tr>\n",
       "      <td>0</td>\n",
       "      <td>-0.007593</td>\n",
       "      <td>-0.003699</td>\n",
       "      <td>-0.003886</td>\n",
       "      <td>-0.007773</td>\n",
       "      <td>-0.006963</td>\n",
       "      <td>-0.002263</td>\n",
       "      <td>-0.000305</td>\n",
       "      <td>0.006835</td>\n",
       "    </tr>\n",
       "    <tr>\n",
       "      <td>1</td>\n",
       "      <td>-0.007593</td>\n",
       "      <td>-0.003699</td>\n",
       "      <td>-0.003886</td>\n",
       "      <td>-0.007773</td>\n",
       "      <td>-0.006963</td>\n",
       "      <td>-0.002263</td>\n",
       "      <td>-0.000305</td>\n",
       "      <td>0.006835</td>\n",
       "    </tr>\n",
       "    <tr>\n",
       "      <td>2</td>\n",
       "      <td>-0.007593</td>\n",
       "      <td>-0.003699</td>\n",
       "      <td>-0.003886</td>\n",
       "      <td>-0.007773</td>\n",
       "      <td>-0.006963</td>\n",
       "      <td>-0.002263</td>\n",
       "      <td>-0.000305</td>\n",
       "      <td>0.006835</td>\n",
       "    </tr>\n",
       "    <tr>\n",
       "      <td>3</td>\n",
       "      <td>-0.007593</td>\n",
       "      <td>-0.003699</td>\n",
       "      <td>-0.003886</td>\n",
       "      <td>-0.007773</td>\n",
       "      <td>-0.006963</td>\n",
       "      <td>-0.002263</td>\n",
       "      <td>-0.000305</td>\n",
       "      <td>0.006835</td>\n",
       "    </tr>\n",
       "    <tr>\n",
       "      <td>4</td>\n",
       "      <td>-0.007593</td>\n",
       "      <td>-0.003699</td>\n",
       "      <td>-0.003886</td>\n",
       "      <td>-0.007773</td>\n",
       "      <td>-0.006963</td>\n",
       "      <td>-0.002263</td>\n",
       "      <td>-0.000305</td>\n",
       "      <td>0.006835</td>\n",
       "    </tr>\n",
       "  </tbody>\n",
       "</table>\n",
       "</div>"
      ],
      "text/plain": [
       "          0         1         2         3         4         5         6  \\\n",
       "0 -0.007593 -0.003699 -0.003886 -0.007773 -0.006963 -0.002263 -0.000305   \n",
       "1 -0.007593 -0.003699 -0.003886 -0.007773 -0.006963 -0.002263 -0.000305   \n",
       "2 -0.007593 -0.003699 -0.003886 -0.007773 -0.006963 -0.002263 -0.000305   \n",
       "3 -0.007593 -0.003699 -0.003886 -0.007773 -0.006963 -0.002263 -0.000305   \n",
       "4 -0.007593 -0.003699 -0.003886 -0.007773 -0.006963 -0.002263 -0.000305   \n",
       "\n",
       "          7  \n",
       "0  0.006835  \n",
       "1  0.006835  \n",
       "2  0.006835  \n",
       "3  0.006835  \n",
       "4  0.006835  "
      ]
     },
     "execution_count": 13,
     "metadata": {},
     "output_type": "execute_result"
    }
   ],
   "source": [
    "ans_df.head()"
   ]
  },
  {
   "cell_type": "code",
   "execution_count": 14,
   "metadata": {},
   "outputs": [],
   "source": [
    "ans_df.to_csv('ans_Reconstructed.csv',index=False)"
   ]
  },
  {
   "cell_type": "code",
   "execution_count": 15,
   "metadata": {},
   "outputs": [
    {
     "data": {
      "text/plain": [
       "-0.0039032422937452793"
      ]
     },
     "execution_count": 15,
     "metadata": {},
     "output_type": "execute_result"
    }
   ],
   "source": [
    "ans_df.iloc[:,2].mean()"
   ]
  },
  {
   "cell_type": "code",
   "execution_count": 16,
   "metadata": {},
   "outputs": [
    {
     "data": {
      "text/plain": [
       "-4.704204152336209e-16"
      ]
     },
     "execution_count": 16,
     "metadata": {},
     "output_type": "execute_result"
    }
   ],
   "source": [
    "pd.DataFrame(train_df).iloc[:,2].mean()"
   ]
  },
  {
   "cell_type": "code",
   "execution_count": 17,
   "metadata": {},
   "outputs": [
    {
     "data": {
      "text/plain": [
       "0           0.452950\n",
       "1          52.260898\n",
       "2           0.439645\n",
       "3           0.553331\n",
       "4          72.832348\n",
       "             ...    \n",
       "1070989     0.387855\n",
       "1070990     0.469622\n",
       "1070991     0.452685\n",
       "1070992     0.390062\n",
       "1070993     0.296586\n",
       "Length: 1070994, dtype: float64"
      ]
     },
     "execution_count": 17,
     "metadata": {},
     "output_type": "execute_result"
    }
   ],
   "source": [
    "#n=1\n",
    "manhattan = (ans_df - pd.DataFrame(train_df)).abs()\n",
    "manhattan_score = manhattan.sum(axis = 1)\n",
    "manhattan_score"
   ]
  },
  {
   "cell_type": "code",
   "execution_count": 18,
   "metadata": {},
   "outputs": [
    {
     "data": {
      "text/plain": [
       "0           0.181745\n",
       "1          23.205414\n",
       "2           0.183590\n",
       "3           0.219229\n",
       "4          31.756757\n",
       "             ...    \n",
       "1070989     0.159267\n",
       "1070990     0.187101\n",
       "1070991     0.183369\n",
       "1070992     0.159416\n",
       "1070993     0.120780\n",
       "Length: 1070994, dtype: float64"
      ]
     },
     "execution_count": 18,
     "metadata": {},
     "output_type": "execute_result"
    }
   ],
   "source": [
    "#n=2\n",
    "euclidean = (((ans - pd.DataFrame(train_df)).abs())**2).sum(axis=1)\n",
    "euclidean_score = euclidean**(1/2)\n",
    "euclidean_score"
   ]
  },
  {
   "cell_type": "code",
   "execution_count": 19,
   "metadata": {},
   "outputs": [],
   "source": [
    "manhattan_score=pd.DataFrame(manhattan_score)\n",
    "euclidean_score=pd.DataFrame(euclidean_score)\n",
    "fraud_score_AE= pd.concat([manhattan_score,euclidean_score], axis=1)\n",
    "fraud_score_AE.columns=['Manhattan Score','Euclidean Score']"
   ]
  },
  {
   "cell_type": "code",
   "execution_count": 20,
   "metadata": {},
   "outputs": [],
   "source": [
    "fraud_score_AE.insert(0,'Record',fraud_score_AE.index+1)"
   ]
  },
  {
   "cell_type": "code",
   "execution_count": 21,
   "metadata": {},
   "outputs": [
    {
     "data": {
      "text/html": [
       "<div>\n",
       "<style scoped>\n",
       "    .dataframe tbody tr th:only-of-type {\n",
       "        vertical-align: middle;\n",
       "    }\n",
       "\n",
       "    .dataframe tbody tr th {\n",
       "        vertical-align: top;\n",
       "    }\n",
       "\n",
       "    .dataframe thead th {\n",
       "        text-align: right;\n",
       "    }\n",
       "</style>\n",
       "<table border=\"1\" class=\"dataframe\">\n",
       "  <thead>\n",
       "    <tr style=\"text-align: right;\">\n",
       "      <th></th>\n",
       "      <th>Record</th>\n",
       "      <th>Manhattan Score</th>\n",
       "      <th>Euclidean Score</th>\n",
       "    </tr>\n",
       "  </thead>\n",
       "  <tbody>\n",
       "    <tr>\n",
       "      <td>count</td>\n",
       "      <td>1.070994e+06</td>\n",
       "      <td>1.070994e+06</td>\n",
       "      <td>1.070994e+06</td>\n",
       "    </tr>\n",
       "    <tr>\n",
       "      <td>mean</td>\n",
       "      <td>5.354975e+05</td>\n",
       "      <td>5.575767e-01</td>\n",
       "      <td>2.373025e-01</td>\n",
       "    </tr>\n",
       "    <tr>\n",
       "      <td>std</td>\n",
       "      <td>3.091695e+05</td>\n",
       "      <td>6.665637e+00</td>\n",
       "      <td>2.818499e+00</td>\n",
       "    </tr>\n",
       "    <tr>\n",
       "      <td>min</td>\n",
       "      <td>1.000000e+00</td>\n",
       "      <td>1.665865e-02</td>\n",
       "      <td>8.211403e-03</td>\n",
       "    </tr>\n",
       "    <tr>\n",
       "      <td>25%</td>\n",
       "      <td>2.677492e+05</td>\n",
       "      <td>1.715604e-01</td>\n",
       "      <td>7.466663e-02</td>\n",
       "    </tr>\n",
       "    <tr>\n",
       "      <td>50%</td>\n",
       "      <td>5.354975e+05</td>\n",
       "      <td>2.710587e-01</td>\n",
       "      <td>1.185285e-01</td>\n",
       "    </tr>\n",
       "    <tr>\n",
       "      <td>75%</td>\n",
       "      <td>8.032458e+05</td>\n",
       "      <td>5.040402e-01</td>\n",
       "      <td>2.123027e-01</td>\n",
       "    </tr>\n",
       "    <tr>\n",
       "      <td>max</td>\n",
       "      <td>1.070994e+06</td>\n",
       "      <td>2.341670e+03</td>\n",
       "      <td>1.024187e+03</td>\n",
       "    </tr>\n",
       "  </tbody>\n",
       "</table>\n",
       "</div>"
      ],
      "text/plain": [
       "             Record  Manhattan Score  Euclidean Score\n",
       "count  1.070994e+06     1.070994e+06     1.070994e+06\n",
       "mean   5.354975e+05     5.575767e-01     2.373025e-01\n",
       "std    3.091695e+05     6.665637e+00     2.818499e+00\n",
       "min    1.000000e+00     1.665865e-02     8.211403e-03\n",
       "25%    2.677492e+05     1.715604e-01     7.466663e-02\n",
       "50%    5.354975e+05     2.710587e-01     1.185285e-01\n",
       "75%    8.032458e+05     5.040402e-01     2.123027e-01\n",
       "max    1.070994e+06     2.341670e+03     1.024187e+03"
      ]
     },
     "execution_count": 21,
     "metadata": {},
     "output_type": "execute_result"
    }
   ],
   "source": [
    "fraud_score_AE.describe()"
   ]
  },
  {
   "cell_type": "code",
   "execution_count": 22,
   "metadata": {},
   "outputs": [],
   "source": [
    "fraud_score_AE.to_csv('fraud_score_AE.csv',index=False)"
   ]
  },
  {
   "cell_type": "code",
   "execution_count": 23,
   "metadata": {},
   "outputs": [
    {
     "data": {
      "text/html": [
       "<div>\n",
       "<style scoped>\n",
       "    .dataframe tbody tr th:only-of-type {\n",
       "        vertical-align: middle;\n",
       "    }\n",
       "\n",
       "    .dataframe tbody tr th {\n",
       "        vertical-align: top;\n",
       "    }\n",
       "\n",
       "    .dataframe thead th {\n",
       "        text-align: right;\n",
       "    }\n",
       "</style>\n",
       "<table border=\"1\" class=\"dataframe\">\n",
       "  <thead>\n",
       "    <tr style=\"text-align: right;\">\n",
       "      <th></th>\n",
       "      <th>Record</th>\n",
       "      <th>Manhattan Score</th>\n",
       "      <th>Euclidean Score</th>\n",
       "    </tr>\n",
       "  </thead>\n",
       "  <tbody>\n",
       "    <tr>\n",
       "      <td>0</td>\n",
       "      <td>1</td>\n",
       "      <td>0.452950</td>\n",
       "      <td>0.181745</td>\n",
       "    </tr>\n",
       "    <tr>\n",
       "      <td>1</td>\n",
       "      <td>2</td>\n",
       "      <td>52.260898</td>\n",
       "      <td>23.205414</td>\n",
       "    </tr>\n",
       "    <tr>\n",
       "      <td>2</td>\n",
       "      <td>3</td>\n",
       "      <td>0.439645</td>\n",
       "      <td>0.183590</td>\n",
       "    </tr>\n",
       "    <tr>\n",
       "      <td>3</td>\n",
       "      <td>4</td>\n",
       "      <td>0.553331</td>\n",
       "      <td>0.219229</td>\n",
       "    </tr>\n",
       "    <tr>\n",
       "      <td>4</td>\n",
       "      <td>5</td>\n",
       "      <td>72.832348</td>\n",
       "      <td>31.756757</td>\n",
       "    </tr>\n",
       "  </tbody>\n",
       "</table>\n",
       "</div>"
      ],
      "text/plain": [
       "   Record  Manhattan Score  Euclidean Score\n",
       "0       1         0.452950         0.181745\n",
       "1       2        52.260898        23.205414\n",
       "2       3         0.439645         0.183590\n",
       "3       4         0.553331         0.219229\n",
       "4       5        72.832348        31.756757"
      ]
     },
     "execution_count": 23,
     "metadata": {},
     "output_type": "execute_result"
    }
   ],
   "source": [
    "fraud_score_AE.head()"
   ]
  },
  {
   "cell_type": "code",
   "execution_count": 24,
   "metadata": {},
   "outputs": [
    {
     "data": {
      "text/html": [
       "<div>\n",
       "<style scoped>\n",
       "    .dataframe tbody tr th:only-of-type {\n",
       "        vertical-align: middle;\n",
       "    }\n",
       "\n",
       "    .dataframe tbody tr th {\n",
       "        vertical-align: top;\n",
       "    }\n",
       "\n",
       "    .dataframe thead th {\n",
       "        text-align: right;\n",
       "    }\n",
       "</style>\n",
       "<table border=\"1\" class=\"dataframe\">\n",
       "  <thead>\n",
       "    <tr style=\"text-align: right;\">\n",
       "      <th></th>\n",
       "      <th>Record</th>\n",
       "      <th>Manhattan Score</th>\n",
       "      <th>Euclidean Score</th>\n",
       "      <th>Euclidean Rank</th>\n",
       "      <th>Manhattan Rank</th>\n",
       "    </tr>\n",
       "  </thead>\n",
       "  <tbody>\n",
       "    <tr>\n",
       "      <td>0</td>\n",
       "      <td>1</td>\n",
       "      <td>0.452950</td>\n",
       "      <td>0.181745</td>\n",
       "      <td>716092.0</td>\n",
       "      <td>743553.0</td>\n",
       "    </tr>\n",
       "    <tr>\n",
       "      <td>1</td>\n",
       "      <td>2</td>\n",
       "      <td>52.260898</td>\n",
       "      <td>23.205414</td>\n",
       "      <td>1070323.0</td>\n",
       "      <td>1070305.0</td>\n",
       "    </tr>\n",
       "    <tr>\n",
       "      <td>2</td>\n",
       "      <td>3</td>\n",
       "      <td>0.439645</td>\n",
       "      <td>0.183590</td>\n",
       "      <td>719957.0</td>\n",
       "      <td>730902.0</td>\n",
       "    </tr>\n",
       "    <tr>\n",
       "      <td>3</td>\n",
       "      <td>4</td>\n",
       "      <td>0.553331</td>\n",
       "      <td>0.219229</td>\n",
       "      <td>836457.0</td>\n",
       "      <td>910349.0</td>\n",
       "    </tr>\n",
       "    <tr>\n",
       "      <td>4</td>\n",
       "      <td>5</td>\n",
       "      <td>72.832348</td>\n",
       "      <td>31.756757</td>\n",
       "      <td>1070394.0</td>\n",
       "      <td>1070395.0</td>\n",
       "    </tr>\n",
       "  </tbody>\n",
       "</table>\n",
       "</div>"
      ],
      "text/plain": [
       "   Record  Manhattan Score  Euclidean Score  Euclidean Rank  Manhattan Rank\n",
       "0       1         0.452950         0.181745        716092.0        743553.0\n",
       "1       2        52.260898        23.205414       1070323.0       1070305.0\n",
       "2       3         0.439645         0.183590        719957.0        730902.0\n",
       "3       4         0.553331         0.219229        836457.0        910349.0\n",
       "4       5        72.832348        31.756757       1070394.0       1070395.0"
      ]
     },
     "execution_count": 24,
     "metadata": {},
     "output_type": "execute_result"
    }
   ],
   "source": [
    "fraud_score_AE['Euclidean Rank'] = fraud_score_AE['Euclidean Score'].rank(ascending=1)\n",
    "fraud_score_AE['Manhattan Rank'] = fraud_score_AE['Manhattan Score'].rank(ascending=1)\n",
    "fraud_score_AE.head()"
   ]
  },
  {
   "cell_type": "code",
   "execution_count": 25,
   "metadata": {},
   "outputs": [],
   "source": [
    "fraud_score_AE.to_csv('fraud_ScoreAndRanks_AE.csv',index=False)"
   ]
  },
  {
   "cell_type": "code",
   "execution_count": 26,
   "metadata": {},
   "outputs": [
    {
     "data": {
      "text/plain": [
       "<Figure size 640x480 with 1 Axes>"
      ]
     },
     "metadata": {},
     "output_type": "display_data"
    }
   ],
   "source": [
    "import seaborn as sns\n",
    "import matplotlib.pyplot as plt\n",
    "sns.distplot(fraud_score_AE['Manhattan Score'],bins=100, kde=True)\n",
    "#plt.title('Distribution of :'+col1)\n",
    "#plt.ylabel('Density of probability', fontsize=12)\n",
    "#plt.xlabel(col1, fontsize=12)\n",
    "#plt.savefig(\"imgs/\"+col1+\".png\")\n",
    "plt.show()"
   ]
  },
  {
   "cell_type": "code",
   "execution_count": 27,
   "metadata": {},
   "outputs": [
    {
     "data": {
      "image/png": "[encoded data removed]",
      "text/plain": [
       "<Figure size 432x288 with 1 Axes>"
      ]
     },
     "metadata": {
      "needs_background": "light"
     },
     "output_type": "display_data"
    }
   ],
   "source": [
    "colName='Manhattan Score'\n",
    "xhigh =1.25\n",
    "#sns.plt.xlim(0,xhigh)\n",
    "temp = fraud_score_AE[fraud_score_AE[colName] <= xhigh]\n",
    "sns.distplot(temp[colName],bins=10000, kde=True)\n",
    "plt.title('Distribution of :'+colName)\n",
    "#plt.xscale('log')\n",
    "plt.ylabel('Density of probability', fontsize=12)\n",
    "plt.ylim((0.00, 25)) \n",
    "#plt.xlim((0.00, 25)) \n",
    "plt.xlabel(colName, fontsize=12)\n",
    "plt.savefig(\"Manhattan Score.png\")\n",
    "plt.show()"
   ]
  },
  {
   "cell_type": "code",
   "execution_count": 32,
   "metadata": {},
   "outputs": [
    {
     "data": {
      "image/png": "[encoded data removed]",
      "text/plain": [
       "<Figure size 432x288 with 1 Axes>"
      ]
     },
     "metadata": {
      "needs_background": "light"
     },
     "output_type": "display_data"
    }
   ],
   "source": [
    "colName='Euclidean Score'\n",
    "xhigh =1.25\n",
    "#sns.plt.xlim(0,xhigh)\n",
    "#temp = fraud_score_AE\n",
    "temp = fraud_score_AE[fraud_score_AE[colName] <= xhigh]\n",
    "sns.distplot(temp[colName],bins=10000, kde=True)\n",
    "plt.title('Distribution of Autoencoder Score')\n",
    "#plt.xscale('log')\n",
    "plt.ylabel('Density of probability', fontsize=12)\n",
    "plt.ylim((0.00, 25)) \n",
    "#plt.xlim((0.00, 25)) \n",
    "plt.xlabel('Autoencoder Score', fontsize=12)\n",
    "plt.savefig(\"Autoencoder Score.png\")\n",
    "plt.show()"
   ]
  },
  {
   "cell_type": "code",
   "execution_count": 29,
   "metadata": {},
   "outputs": [],
   "source": [
    "bins=10\n",
    "colName='Euclidean Score'\n",
    "new_data = pd.qcut(fraud_score_AE[colName], bins, labels=list(range(bins)))"
   ]
  },
  {
   "cell_type": "code",
   "execution_count": 30,
   "metadata": {},
   "outputs": [
    {
     "data": {
      "text/plain": [
       "6    107101\n",
       "9    107100\n",
       "2    107100\n",
       "0    107100\n",
       "8    107099\n",
       "5    107099\n",
       "4    107099\n",
       "3    107099\n",
       "1    107099\n",
       "7    107098\n",
       "Name: Euclidean Score, dtype: int64"
      ]
     },
     "execution_count": 30,
     "metadata": {},
     "output_type": "execute_result"
    }
   ],
   "source": [
    "type(new_data)\n",
    "new_data.value_counts()"
   ]
  },
  {
   "cell_type": "code",
   "execution_count": 31,
   "metadata": {},
   "outputs": [
    {
     "data": {
      "text/html": [
       "<div>\n",
       "<style scoped>\n",
       "    .dataframe tbody tr th:only-of-type {\n",
       "        vertical-align: middle;\n",
       "    }\n",
       "\n",
       "    .dataframe tbody tr th {\n",
       "        vertical-align: top;\n",
       "    }\n",
       "\n",
       "    .dataframe thead th {\n",
       "        text-align: right;\n",
       "    }\n",
       "</style>\n",
       "<table border=\"1\" class=\"dataframe\">\n",
       "  <thead>\n",
       "    <tr style=\"text-align: right;\">\n",
       "      <th></th>\n",
       "      <th>Euclidean Score</th>\n",
       "    </tr>\n",
       "  </thead>\n",
       "  <tbody>\n",
       "    <tr>\n",
       "      <td>0</td>\n",
       "      <td>6</td>\n",
       "    </tr>\n",
       "    <tr>\n",
       "      <td>1</td>\n",
       "      <td>9</td>\n",
       "    </tr>\n",
       "    <tr>\n",
       "      <td>2</td>\n",
       "      <td>6</td>\n",
       "    </tr>\n",
       "    <tr>\n",
       "      <td>3</td>\n",
       "      <td>7</td>\n",
       "    </tr>\n",
       "    <tr>\n",
       "      <td>4</td>\n",
       "      <td>9</td>\n",
       "    </tr>\n",
       "  </tbody>\n",
       "</table>\n",
       "</div>"
      ],
      "text/plain": [
       "  Euclidean Score\n",
       "0               6\n",
       "1               9\n",
       "2               6\n",
       "3               7\n",
       "4               9"
      ]
     },
     "execution_count": 31,
     "metadata": {},
     "output_type": "execute_result"
    }
   ],
   "source": [
    "pd.DataFrame(new_data).head()"
   ]
  },
  {
   "cell_type": "code",
   "execution_count": null,
   "metadata": {},
   "outputs": [],
   "source": []
  }
 ],
 "metadata": {
  "kernelspec": {
   "display_name": "Python 3",
   "language": "python",
   "name": "python3"
  },
  "language_info": {
   "codemirror_mode": {
    "name": "ipython",
    "version": 3
   },
   "file_extension": ".py",
   "mimetype": "text/x-python",
   "name": "python",
   "nbconvert_exporter": "python",
   "pygments_lexer": "ipython3",
   "version": "3.7.4"
  }
 },
 "nbformat": 4,
 "nbformat_minor": 2
}
