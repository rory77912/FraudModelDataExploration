{
 "cells": [
  {
   "cell_type": "code",
   "execution_count": 3,
   "metadata": {
    "colab": {},
    "colab_type": "code",
    "id": "LmWULz-jrPLe"
   },
   "outputs": [],
   "source": [
    "import pandas as pd\n",
    "import numpy as np\n",
    "import matplotlib.pyplot as plt\n",
    "import seaborn as sns\n",
    "import math\n",
    "%matplotlib inline"
   ]
  },
  {
   "cell_type": "code",
   "execution_count": 4,
   "metadata": {
    "colab": {},
    "colab_type": "code",
    "id": "-0lHDScSrPLk"
   },
   "outputs": [],
   "source": [
    "df = pd.read_csv('NY property data.csv')"
   ]
  },
  {
   "cell_type": "code",
   "execution_count": 5,
   "metadata": {
    "colab": {},
    "colab_type": "code",
    "id": "_Fl23BrSrPLn",
    "outputId": "07a3457b-0c64-4b45-ca97-4cad66a29e58"
   },
   "outputs": [
    {
     "data": {
      "text/html": [
       "<div>\n",
       "<style scoped>\n",
       "    .dataframe tbody tr th:only-of-type {\n",
       "        vertical-align: middle;\n",
       "    }\n",
       "\n",
       "    .dataframe tbody tr th {\n",
       "        vertical-align: top;\n",
       "    }\n",
       "\n",
       "    .dataframe thead th {\n",
       "        text-align: right;\n",
       "    }\n",
       "</style>\n",
       "<table border=\"1\" class=\"dataframe\">\n",
       "  <thead>\n",
       "    <tr style=\"text-align: right;\">\n",
       "      <th></th>\n",
       "      <th>RECORD</th>\n",
       "      <th>BBLE</th>\n",
       "      <th>B</th>\n",
       "      <th>BLOCK</th>\n",
       "      <th>LOT</th>\n",
       "      <th>EASEMENT</th>\n",
       "      <th>OWNER</th>\n",
       "      <th>BLDGCL</th>\n",
       "      <th>TAXCLASS</th>\n",
       "      <th>LTFRONT</th>\n",
       "      <th>...</th>\n",
       "      <th>BLDFRONT</th>\n",
       "      <th>BLDDEPTH</th>\n",
       "      <th>AVLAND2</th>\n",
       "      <th>AVTOT2</th>\n",
       "      <th>EXLAND2</th>\n",
       "      <th>EXTOT2</th>\n",
       "      <th>EXCD2</th>\n",
       "      <th>PERIOD</th>\n",
       "      <th>YEAR</th>\n",
       "      <th>VALTYPE</th>\n",
       "    </tr>\n",
       "  </thead>\n",
       "  <tbody>\n",
       "    <tr>\n",
       "      <td>0</td>\n",
       "      <td>1</td>\n",
       "      <td>1000010101</td>\n",
       "      <td>1</td>\n",
       "      <td>1</td>\n",
       "      <td>101</td>\n",
       "      <td>NaN</td>\n",
       "      <td>U S GOVT LAND &amp; BLDGS</td>\n",
       "      <td>P7</td>\n",
       "      <td>4</td>\n",
       "      <td>500.0</td>\n",
       "      <td>...</td>\n",
       "      <td>NaN</td>\n",
       "      <td>NaN</td>\n",
       "      <td>3775500.0</td>\n",
       "      <td>8613000.0</td>\n",
       "      <td>3775500.0</td>\n",
       "      <td>8613000.0</td>\n",
       "      <td>NaN</td>\n",
       "      <td>FINAL</td>\n",
       "      <td>2010/11</td>\n",
       "      <td>AC-TR</td>\n",
       "    </tr>\n",
       "    <tr>\n",
       "      <td>1</td>\n",
       "      <td>2</td>\n",
       "      <td>1000010201</td>\n",
       "      <td>1</td>\n",
       "      <td>1</td>\n",
       "      <td>201</td>\n",
       "      <td>NaN</td>\n",
       "      <td>U S GOVT LAND &amp; BLDGS</td>\n",
       "      <td>Z9</td>\n",
       "      <td>4</td>\n",
       "      <td>27.0</td>\n",
       "      <td>...</td>\n",
       "      <td>NaN</td>\n",
       "      <td>NaN</td>\n",
       "      <td>11111400.0</td>\n",
       "      <td>80690400.0</td>\n",
       "      <td>11111400.0</td>\n",
       "      <td>80690400.0</td>\n",
       "      <td>NaN</td>\n",
       "      <td>FINAL</td>\n",
       "      <td>2010/11</td>\n",
       "      <td>AC-TR</td>\n",
       "    </tr>\n",
       "    <tr>\n",
       "      <td>2</td>\n",
       "      <td>3</td>\n",
       "      <td>1000020001</td>\n",
       "      <td>1</td>\n",
       "      <td>2</td>\n",
       "      <td>1</td>\n",
       "      <td>NaN</td>\n",
       "      <td>DEPT OF GENERAL SERVI</td>\n",
       "      <td>Y7</td>\n",
       "      <td>4</td>\n",
       "      <td>709.0</td>\n",
       "      <td>...</td>\n",
       "      <td>709.0</td>\n",
       "      <td>564.0</td>\n",
       "      <td>32321790.0</td>\n",
       "      <td>40179510.0</td>\n",
       "      <td>32321790.0</td>\n",
       "      <td>40179510.0</td>\n",
       "      <td>NaN</td>\n",
       "      <td>FINAL</td>\n",
       "      <td>2010/11</td>\n",
       "      <td>AC-TR</td>\n",
       "    </tr>\n",
       "    <tr>\n",
       "      <td>3</td>\n",
       "      <td>4</td>\n",
       "      <td>1000020023</td>\n",
       "      <td>1</td>\n",
       "      <td>2</td>\n",
       "      <td>23</td>\n",
       "      <td>NaN</td>\n",
       "      <td>DEPARTMENT OF BUSINES</td>\n",
       "      <td>T2</td>\n",
       "      <td>4</td>\n",
       "      <td>793.0</td>\n",
       "      <td>...</td>\n",
       "      <td>85.0</td>\n",
       "      <td>551.0</td>\n",
       "      <td>13644000.0</td>\n",
       "      <td>15750000.0</td>\n",
       "      <td>13644000.0</td>\n",
       "      <td>15750000.0</td>\n",
       "      <td>NaN</td>\n",
       "      <td>FINAL</td>\n",
       "      <td>2010/11</td>\n",
       "      <td>AC-TR</td>\n",
       "    </tr>\n",
       "    <tr>\n",
       "      <td>4</td>\n",
       "      <td>5</td>\n",
       "      <td>1000030001</td>\n",
       "      <td>1</td>\n",
       "      <td>3</td>\n",
       "      <td>1</td>\n",
       "      <td>NaN</td>\n",
       "      <td>PARKS AND RECREATION</td>\n",
       "      <td>Q1</td>\n",
       "      <td>4</td>\n",
       "      <td>323.0</td>\n",
       "      <td>...</td>\n",
       "      <td>89.0</td>\n",
       "      <td>57.0</td>\n",
       "      <td>106348680.0</td>\n",
       "      <td>107758350.0</td>\n",
       "      <td>106348680.0</td>\n",
       "      <td>107758350.0</td>\n",
       "      <td>NaN</td>\n",
       "      <td>FINAL</td>\n",
       "      <td>2010/11</td>\n",
       "      <td>AC-TR</td>\n",
       "    </tr>\n",
       "    <tr>\n",
       "      <td>...</td>\n",
       "      <td>...</td>\n",
       "      <td>...</td>\n",
       "      <td>...</td>\n",
       "      <td>...</td>\n",
       "      <td>...</td>\n",
       "      <td>...</td>\n",
       "      <td>...</td>\n",
       "      <td>...</td>\n",
       "      <td>...</td>\n",
       "      <td>...</td>\n",
       "      <td>...</td>\n",
       "      <td>...</td>\n",
       "      <td>...</td>\n",
       "      <td>...</td>\n",
       "      <td>...</td>\n",
       "      <td>...</td>\n",
       "      <td>...</td>\n",
       "      <td>...</td>\n",
       "      <td>...</td>\n",
       "      <td>...</td>\n",
       "      <td>...</td>\n",
       "    </tr>\n",
       "    <tr>\n",
       "      <td>1070989</td>\n",
       "      <td>1070990</td>\n",
       "      <td>5080500083</td>\n",
       "      <td>5</td>\n",
       "      <td>8050</td>\n",
       "      <td>83</td>\n",
       "      <td>NaN</td>\n",
       "      <td>TOBIN, GALE</td>\n",
       "      <td>A1</td>\n",
       "      <td>1</td>\n",
       "      <td>60.0</td>\n",
       "      <td>...</td>\n",
       "      <td>30.0</td>\n",
       "      <td>26.0</td>\n",
       "      <td>NaN</td>\n",
       "      <td>NaN</td>\n",
       "      <td>NaN</td>\n",
       "      <td>NaN</td>\n",
       "      <td>NaN</td>\n",
       "      <td>FINAL</td>\n",
       "      <td>2010/11</td>\n",
       "      <td>AC-TR</td>\n",
       "    </tr>\n",
       "    <tr>\n",
       "      <td>1070990</td>\n",
       "      <td>1070991</td>\n",
       "      <td>5080500086</td>\n",
       "      <td>5</td>\n",
       "      <td>8050</td>\n",
       "      <td>86</td>\n",
       "      <td>NaN</td>\n",
       "      <td>SHERRI MILINAZZO</td>\n",
       "      <td>A1</td>\n",
       "      <td>1</td>\n",
       "      <td>62.0</td>\n",
       "      <td>...</td>\n",
       "      <td>32.0</td>\n",
       "      <td>26.0</td>\n",
       "      <td>NaN</td>\n",
       "      <td>NaN</td>\n",
       "      <td>NaN</td>\n",
       "      <td>NaN</td>\n",
       "      <td>NaN</td>\n",
       "      <td>FINAL</td>\n",
       "      <td>2010/11</td>\n",
       "      <td>AC-TR</td>\n",
       "    </tr>\n",
       "    <tr>\n",
       "      <td>1070991</td>\n",
       "      <td>1070992</td>\n",
       "      <td>5080500089</td>\n",
       "      <td>5</td>\n",
       "      <td>8050</td>\n",
       "      <td>89</td>\n",
       "      <td>NaN</td>\n",
       "      <td>JOHN GERVASI</td>\n",
       "      <td>A1</td>\n",
       "      <td>1</td>\n",
       "      <td>53.0</td>\n",
       "      <td>...</td>\n",
       "      <td>24.0</td>\n",
       "      <td>32.0</td>\n",
       "      <td>NaN</td>\n",
       "      <td>NaN</td>\n",
       "      <td>NaN</td>\n",
       "      <td>NaN</td>\n",
       "      <td>1017.0</td>\n",
       "      <td>FINAL</td>\n",
       "      <td>2010/11</td>\n",
       "      <td>AC-TR</td>\n",
       "    </tr>\n",
       "    <tr>\n",
       "      <td>1070992</td>\n",
       "      <td>1070993</td>\n",
       "      <td>5080500092</td>\n",
       "      <td>5</td>\n",
       "      <td>8050</td>\n",
       "      <td>92</td>\n",
       "      <td>NaN</td>\n",
       "      <td>RITA M MOOG</td>\n",
       "      <td>A1</td>\n",
       "      <td>1</td>\n",
       "      <td>52.0</td>\n",
       "      <td>...</td>\n",
       "      <td>32.0</td>\n",
       "      <td>21.0</td>\n",
       "      <td>NaN</td>\n",
       "      <td>NaN</td>\n",
       "      <td>NaN</td>\n",
       "      <td>NaN</td>\n",
       "      <td>NaN</td>\n",
       "      <td>FINAL</td>\n",
       "      <td>2010/11</td>\n",
       "      <td>AC-TR</td>\n",
       "    </tr>\n",
       "    <tr>\n",
       "      <td>1070993</td>\n",
       "      <td>1070994</td>\n",
       "      <td>5080500094</td>\n",
       "      <td>5</td>\n",
       "      <td>8050</td>\n",
       "      <td>94</td>\n",
       "      <td>NaN</td>\n",
       "      <td>EDWARD DONOHUE</td>\n",
       "      <td>A1</td>\n",
       "      <td>1</td>\n",
       "      <td>50.0</td>\n",
       "      <td>...</td>\n",
       "      <td>30.0</td>\n",
       "      <td>24.0</td>\n",
       "      <td>NaN</td>\n",
       "      <td>NaN</td>\n",
       "      <td>NaN</td>\n",
       "      <td>NaN</td>\n",
       "      <td>NaN</td>\n",
       "      <td>FINAL</td>\n",
       "      <td>2010/11</td>\n",
       "      <td>AC-TR</td>\n",
       "    </tr>\n",
       "  </tbody>\n",
       "</table>\n",
       "<p>1070994 rows × 32 columns</p>\n",
       "</div>"
      ],
      "text/plain": [
       "          RECORD        BBLE  B  BLOCK  LOT EASEMENT                  OWNER  \\\n",
       "0              1  1000010101  1      1  101      NaN  U S GOVT LAND & BLDGS   \n",
       "1              2  1000010201  1      1  201      NaN  U S GOVT LAND & BLDGS   \n",
       "2              3  1000020001  1      2    1      NaN  DEPT OF GENERAL SERVI   \n",
       "3              4  1000020023  1      2   23      NaN  DEPARTMENT OF BUSINES   \n",
       "4              5  1000030001  1      3    1      NaN   PARKS AND RECREATION   \n",
       "...          ...         ... ..    ...  ...      ...                    ...   \n",
       "1070989  1070990  5080500083  5   8050   83      NaN            TOBIN, GALE   \n",
       "1070990  1070991  5080500086  5   8050   86      NaN       SHERRI MILINAZZO   \n",
       "1070991  1070992  5080500089  5   8050   89      NaN           JOHN GERVASI   \n",
       "1070992  1070993  5080500092  5   8050   92      NaN            RITA M MOOG   \n",
       "1070993  1070994  5080500094  5   8050   94      NaN         EDWARD DONOHUE   \n",
       "\n",
       "        BLDGCL TAXCLASS  LTFRONT  ...  BLDFRONT BLDDEPTH      AVLAND2  \\\n",
       "0           P7        4    500.0  ...       NaN      NaN    3775500.0   \n",
       "1           Z9        4     27.0  ...       NaN      NaN   11111400.0   \n",
       "2           Y7        4    709.0  ...     709.0    564.0   32321790.0   \n",
       "3           T2        4    793.0  ...      85.0    551.0   13644000.0   \n",
       "4           Q1        4    323.0  ...      89.0     57.0  106348680.0   \n",
       "...        ...      ...      ...  ...       ...      ...          ...   \n",
       "1070989     A1        1     60.0  ...      30.0     26.0          NaN   \n",
       "1070990     A1        1     62.0  ...      32.0     26.0          NaN   \n",
       "1070991     A1        1     53.0  ...      24.0     32.0          NaN   \n",
       "1070992     A1        1     52.0  ...      32.0     21.0          NaN   \n",
       "1070993     A1        1     50.0  ...      30.0     24.0          NaN   \n",
       "\n",
       "              AVTOT2      EXLAND2       EXTOT2   EXCD2  PERIOD     YEAR  \\\n",
       "0          8613000.0    3775500.0    8613000.0     NaN   FINAL  2010/11   \n",
       "1         80690400.0   11111400.0   80690400.0     NaN   FINAL  2010/11   \n",
       "2         40179510.0   32321790.0   40179510.0     NaN   FINAL  2010/11   \n",
       "3         15750000.0   13644000.0   15750000.0     NaN   FINAL  2010/11   \n",
       "4        107758350.0  106348680.0  107758350.0     NaN   FINAL  2010/11   \n",
       "...              ...          ...          ...     ...     ...      ...   \n",
       "1070989          NaN          NaN          NaN     NaN   FINAL  2010/11   \n",
       "1070990          NaN          NaN          NaN     NaN   FINAL  2010/11   \n",
       "1070991          NaN          NaN          NaN  1017.0   FINAL  2010/11   \n",
       "1070992          NaN          NaN          NaN     NaN   FINAL  2010/11   \n",
       "1070993          NaN          NaN          NaN     NaN   FINAL  2010/11   \n",
       "\n",
       "        VALTYPE  \n",
       "0         AC-TR  \n",
       "1         AC-TR  \n",
       "2         AC-TR  \n",
       "3         AC-TR  \n",
       "4         AC-TR  \n",
       "...         ...  \n",
       "1070989   AC-TR  \n",
       "1070990   AC-TR  \n",
       "1070991   AC-TR  \n",
       "1070992   AC-TR  \n",
       "1070993   AC-TR  \n",
       "\n",
       "[1070994 rows x 32 columns]"
      ]
     },
     "execution_count": 5,
     "metadata": {},
     "output_type": "execute_result"
    }
   ],
   "source": [
    "df.replace(0, np.nan, inplace=True)\n",
    "df"
   ]
  },
  {
   "cell_type": "code",
   "execution_count": 6,
   "metadata": {
    "colab": {},
    "colab_type": "code",
    "id": "wUDhtGwfrPLr"
   },
   "outputs": [],
   "source": [
    "df['ZIP'].fillna(method = 'ffill', inplace = True)"
   ]
  },
  {
   "cell_type": "code",
   "execution_count": 7,
   "metadata": {
    "colab": {},
    "colab_type": "code",
    "id": "U65rSq7BrPLu"
   },
   "outputs": [],
   "source": [
    "dfnew = df[['RECORD','BLDGCL','TAXCLASS','LTFRONT','LTDEPTH','FULLVAL','AVLAND','AVTOT','ZIP','BLDFRONT','BLDDEPTH']]"
   ]
  },
  {
   "cell_type": "code",
   "execution_count": 8,
   "metadata": {
    "colab": {},
    "colab_type": "code",
    "id": "5JlLDfr3rPLw",
    "outputId": "dc31ed06-4ed0-4cd7-b391-2813994c9304"
   },
   "outputs": [
    {
     "data": {
      "text/plain": [
       "RECORD      1070994\n",
       "BLDGCL      1070994\n",
       "TAXCLASS    1070994\n",
       "LTFRONT      901886\n",
       "LTDEPTH      900866\n",
       "FULLVAL     1057987\n",
       "AVLAND      1057985\n",
       "AVTOT       1057987\n",
       "ZIP         1070994\n",
       "BLDFRONT     842179\n",
       "BLDDEPTH     842141\n",
       "dtype: int64"
      ]
     },
     "execution_count": 8,
     "metadata": {},
     "output_type": "execute_result"
    }
   ],
   "source": [
    "dfnew.count()"
   ]
  },
  {
   "cell_type": "code",
   "execution_count": 9,
   "metadata": {
    "colab": {},
    "colab_type": "code",
    "id": "Mh9EtavSrPL0"
   },
   "outputs": [],
   "source": [
    "values = ['FULLVAL','AVLAND','AVTOT','BLDFRONT','BLDDEPTH','LTFRONT','LTDEPTH']"
   ]
  },
  {
   "cell_type": "code",
   "execution_count": 10,
   "metadata": {
    "colab": {},
    "colab_type": "code",
    "id": "xU2Axn8brPL2",
    "outputId": "71586af0-dfad-4d94-ad22-479ceda0f2d3"
   },
   "outputs": [
    {
     "name": "stderr",
     "output_type": "stream",
     "text": [
      "/opt/anaconda3/lib/python3.7/site-packages/ipykernel_launcher.py:2: SettingWithCopyWarning: \n",
      "A value is trying to be set on a copy of a slice from a DataFrame.\n",
      "Try using .loc[row_indexer,col_indexer] = value instead\n",
      "\n",
      "See the caveats in the documentation: http://pandas.pydata.org/pandas-docs/stable/user_guide/indexing.html#returning-a-view-versus-a-copy\n",
      "  \n"
     ]
    }
   ],
   "source": [
    "for value in values:\n",
    "    dfnew['count']=dfnew.groupby(['ZIP','TAXCLASS','BLDGCL'])[value].transform('count')"
   ]
  },
  {
   "cell_type": "code",
   "execution_count": 11,
   "metadata": {
    "colab": {},
    "colab_type": "code",
    "id": "4ziUkdvOrPL5",
    "outputId": "4de4c28c-539e-4d71-ae86-9f1ccd7518fa"
   },
   "outputs": [
    {
     "name": "stderr",
     "output_type": "stream",
     "text": [
      "/opt/anaconda3/lib/python3.7/site-packages/pandas/core/indexing.py:494: SettingWithCopyWarning: \n",
      "A value is trying to be set on a copy of a slice from a DataFrame.\n",
      "Try using .loc[row_indexer,col_indexer] = value instead\n",
      "\n",
      "See the caveats in the documentation: http://pandas.pydata.org/pandas-docs/stable/user_guide/indexing.html#returning-a-view-versus-a-copy\n",
      "  self.obj[item] = s\n"
     ]
    }
   ],
   "source": [
    "for value in values:\n",
    "    dfnew.loc[dfnew['count'] > 5,value]=dfnew.loc[dfnew['count'] > 5,value].fillna(dfnew.groupby(['ZIP','TAXCLASS','BLDGCL'])[value].transform('median'))"
   ]
  },
  {
   "cell_type": "code",
   "execution_count": 12,
   "metadata": {
    "colab": {},
    "colab_type": "code",
    "id": "oFIkvtaFrPL8",
    "outputId": "dbcf9706-04b9-4f2e-ef94-6e879881bea4"
   },
   "outputs": [
    {
     "data": {
      "text/plain": [
       "RECORD      1070994\n",
       "BLDGCL      1070994\n",
       "TAXCLASS    1070994\n",
       "LTFRONT     1032740\n",
       "LTDEPTH     1032399\n",
       "FULLVAL     1060616\n",
       "AVLAND      1060616\n",
       "AVTOT       1060616\n",
       "ZIP         1070994\n",
       "BLDFRONT     985611\n",
       "BLDDEPTH     985655\n",
       "count       1070994\n",
       "dtype: int64"
      ]
     },
     "execution_count": 12,
     "metadata": {},
     "output_type": "execute_result"
    }
   ],
   "source": [
    "dfnew.count()"
   ]
  },
  {
   "cell_type": "code",
   "execution_count": 13,
   "metadata": {
    "colab": {},
    "colab_type": "code",
    "id": "JKetH-zZrPL-",
    "outputId": "f7199555-e5a2-414f-936e-267a9d864f9c"
   },
   "outputs": [
    {
     "name": "stderr",
     "output_type": "stream",
     "text": [
      "/opt/anaconda3/lib/python3.7/site-packages/ipykernel_launcher.py:2: SettingWithCopyWarning: \n",
      "A value is trying to be set on a copy of a slice from a DataFrame.\n",
      "Try using .loc[row_indexer,col_indexer] = value instead\n",
      "\n",
      "See the caveats in the documentation: http://pandas.pydata.org/pandas-docs/stable/user_guide/indexing.html#returning-a-view-versus-a-copy\n",
      "  \n"
     ]
    }
   ],
   "source": [
    "for value in values:\n",
    "    dfnew['count2']=dfnew.groupby(['ZIP','TAXCLASS'])[value].transform('count')"
   ]
  },
  {
   "cell_type": "code",
   "execution_count": 14,
   "metadata": {
    "colab": {},
    "colab_type": "code",
    "id": "PclGNAM1rPMB"
   },
   "outputs": [],
   "source": [
    "for value in values:\n",
    "    dfnew.loc[dfnew['count2'] > 5, value]=dfnew.loc[dfnew['count2'] > 5,value].fillna(dfnew.groupby(['ZIP','TAXCLASS'])[value].transform('median'))"
   ]
  },
  {
   "cell_type": "code",
   "execution_count": 15,
   "metadata": {
    "colab": {},
    "colab_type": "code",
    "id": "vtNhUQihrPMD",
    "outputId": "2302a8a8-554d-4c6b-8a1d-581e1abe9b0d"
   },
   "outputs": [
    {
     "data": {
      "text/plain": [
       "RECORD      1070994\n",
       "BLDGCL      1070994\n",
       "TAXCLASS    1070994\n",
       "LTFRONT     1066284\n",
       "LTDEPTH     1066263\n",
       "FULLVAL     1067091\n",
       "AVLAND      1067091\n",
       "AVTOT       1067091\n",
       "ZIP         1070994\n",
       "BLDFRONT    1037235\n",
       "BLDDEPTH    1037363\n",
       "count       1070994\n",
       "count2      1070994\n",
       "dtype: int64"
      ]
     },
     "execution_count": 15,
     "metadata": {},
     "output_type": "execute_result"
    }
   ],
   "source": [
    "dfnew.count()"
   ]
  },
  {
   "cell_type": "code",
   "execution_count": 16,
   "metadata": {
    "colab": {},
    "colab_type": "code",
    "id": "wvMs54qcrPMF",
    "outputId": "d235921b-ac62-4d9d-b55d-ea99f3bbaff8"
   },
   "outputs": [
    {
     "name": "stderr",
     "output_type": "stream",
     "text": [
      "/opt/anaconda3/lib/python3.7/site-packages/ipykernel_launcher.py:2: SettingWithCopyWarning: \n",
      "A value is trying to be set on a copy of a slice from a DataFrame.\n",
      "Try using .loc[row_indexer,col_indexer] = value instead\n",
      "\n",
      "See the caveats in the documentation: http://pandas.pydata.org/pandas-docs/stable/user_guide/indexing.html#returning-a-view-versus-a-copy\n",
      "  \n"
     ]
    }
   ],
   "source": [
    "for value in values:\n",
    "    dfnew['count3']=dfnew.groupby(['ZIP'])[value].transform('count')"
   ]
  },
  {
   "cell_type": "code",
   "execution_count": 17,
   "metadata": {
    "colab": {},
    "colab_type": "code",
    "id": "60C_Y_XhrPMH"
   },
   "outputs": [],
   "source": [
    "for value in values:\n",
    "    dfnew.loc[dfnew['count3'] > 5, value]=dfnew.loc[dfnew['count3']>5, value].fillna(dfnew.groupby(['ZIP'])[value].transform('median'))"
   ]
  },
  {
   "cell_type": "code",
   "execution_count": 18,
   "metadata": {
    "colab": {},
    "colab_type": "code",
    "id": "oW_SPZjFrPML",
    "outputId": "758aead9-e309-463e-96d2-8982d82170a1"
   },
   "outputs": [
    {
     "data": {
      "text/plain": [
       "RECORD      1070994\n",
       "BLDGCL      1070994\n",
       "TAXCLASS    1070994\n",
       "LTFRONT     1070809\n",
       "LTDEPTH     1070809\n",
       "FULLVAL     1070991\n",
       "AVLAND      1070991\n",
       "AVTOT       1070991\n",
       "ZIP         1070994\n",
       "BLDFRONT    1070795\n",
       "BLDDEPTH    1070795\n",
       "count       1070994\n",
       "count2      1070994\n",
       "count3      1070994\n",
       "dtype: int64"
      ]
     },
     "execution_count": 18,
     "metadata": {},
     "output_type": "execute_result"
    }
   ],
   "source": [
    "dfnew.count()"
   ]
  },
  {
   "cell_type": "code",
   "execution_count": 19,
   "metadata": {
    "colab": {},
    "colab_type": "code",
    "id": "hKfxppPCrPMO"
   },
   "outputs": [],
   "source": [
    "dfnew.to_csv('filledinData.csv')"
   ]
  },
  {
   "cell_type": "code",
   "execution_count": null,
   "metadata": {
    "colab": {},
    "colab_type": "code",
    "id": "Ij7uuOnNrPMQ"
   },
   "outputs": [],
   "source": []
  },
  {
   "cell_type": "code",
   "execution_count": null,
   "metadata": {
    "colab": {},
    "colab_type": "code",
    "id": "DMDGgfmorPMS"
   },
   "outputs": [],
   "source": []
  },
  {
   "cell_type": "code",
   "execution_count": null,
   "metadata": {
    "colab": {},
    "colab_type": "code",
    "id": "CENjanoDrPMU"
   },
   "outputs": [],
   "source": []
  }
 ],
 "metadata": {
  "colab": {
   "name": "FillinData_PartIII.ipynb",
   "provenance": []
  },
  "kernelspec": {
   "display_name": "Python 3",
   "language": "python",
   "name": "python3"
  },
  "language_info": {
   "codemirror_mode": {
    "name": "ipython",
    "version": 3
   },
   "file_extension": ".py",
   "mimetype": "text/x-python",
   "name": "python",
   "nbconvert_exporter": "python",
   "pygments_lexer": "ipython3",
   "version": "3.7.4"
  }
 },
 "nbformat": 4,
 "nbformat_minor": 1
}
